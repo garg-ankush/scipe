{
 "cells": [
  {
   "cell_type": "code",
   "execution_count": 1,
   "metadata": {},
   "outputs": [
    {
     "data": {
      "text/plain": [
       "True"
      ]
     },
     "execution_count": 1,
     "metadata": {},
     "output_type": "execute_result"
    }
   ],
   "source": [
    "\n",
    "import pandas as pd\n",
    "import json\n",
    "from algorithm import improve_system\n",
    "from dotenv import load_dotenv\n",
    "load_dotenv()\n"
   ]
  },
  {
   "cell_type": "markdown",
   "metadata": {},
   "source": [
    "#### At this point, we've run some examples through our LLM graph. If not, refer to this post. \n",
    "\n",
    "#### We have a graph, and we can start to analyze the outputs."
   ]
  },
  {
   "cell_type": "code",
   "execution_count": 2,
   "metadata": {},
   "outputs": [],
   "source": [
    "with open(\"/Users/ankushgarg/Desktop/MIDS/epic-data-lab/validate-LLM-graphs/reddit-comments/graph.json\", 'r') as json_file:\n",
    "    graph_json = json.load(json_file)\n",
    "    \n",
    "edges = graph_json['edges']\n"
   ]
  },
  {
   "cell_type": "code",
   "execution_count": 3,
   "metadata": {},
   "outputs": [],
   "source": [
    "from middleware import convert_edges_to_dag\n",
    "\n",
    "dag = convert_edges_to_dag(edges=edges)\n"
   ]
  },
  {
   "cell_type": "markdown",
   "metadata": {},
   "source": [
    "#### Read in dataset with your prompts and LLM responses"
   ]
  },
  {
   "cell_type": "code",
   "execution_count": 4,
   "metadata": {},
   "outputs": [
    {
     "data": {
      "text/html": [
       "<div>\n",
       "<style scoped>\n",
       "    .dataframe tbody tr th:only-of-type {\n",
       "        vertical-align: middle;\n",
       "    }\n",
       "\n",
       "    .dataframe tbody tr th {\n",
       "        vertical-align: top;\n",
       "    }\n",
       "\n",
       "    .dataframe thead th {\n",
       "        text-align: right;\n",
       "    }\n",
       "</style>\n",
       "<table border=\"1\" class=\"dataframe\">\n",
       "  <thead>\n",
       "    <tr style=\"text-align: right;\">\n",
       "      <th></th>\n",
       "      <th>error</th>\n",
       "      <th>post_id</th>\n",
       "      <th>prompt-1</th>\n",
       "      <th>prompt-2</th>\n",
       "      <th>prompt-3</th>\n",
       "      <th>prompt-4</th>\n",
       "      <th>input-post</th>\n",
       "      <th>input-replies</th>\n",
       "      <th>output-keywords</th>\n",
       "      <th>output-article_search</th>\n",
       "      <th>output-replies</th>\n",
       "      <th>output-reply</th>\n",
       "      <th>keywords-node</th>\n",
       "      <th>tool-node</th>\n",
       "      <th>tone-summary-node</th>\n",
       "      <th>reply-node</th>\n",
       "      <th>notes</th>\n",
       "    </tr>\n",
       "  </thead>\n",
       "  <tbody>\n",
       "    <tr>\n",
       "      <th>0</th>\n",
       "      <td>NaN</td>\n",
       "      <td>10w0v9z</td>\n",
       "      <td>Extract two most important keywords from the i...</td>\n",
       "      <td>Based on these keywords: ['Bill Gates', 'clima...</td>\n",
       "      <td>Your goal is to extract a tone (single), senti...</td>\n",
       "      <td>Your job is to write a reddit reply (in less t...</td>\n",
       "      <td>Bill Gates on why he’ll carry on using private...</td>\n",
       "      <td>['Defund the oligarchs.', \"Even if I was a com...</td>\n",
       "      <td>[\"['Bill Gates', 'climate change']\"]</td>\n",
       "      <td>[{'url': 'https://www.gatesnotes.com/What-you-...</td>\n",
       "      <td>{'tone': 'critical', 'sentiment': 'negative', ...</td>\n",
       "      <td>['While I understand the desire for public fig...</td>\n",
       "      <td>1.0</td>\n",
       "      <td>1.0</td>\n",
       "      <td>1.0</td>\n",
       "      <td>1.0</td>\n",
       "      <td>NaN</td>\n",
       "    </tr>\n",
       "  </tbody>\n",
       "</table>\n",
       "</div>"
      ],
      "text/plain": [
       "  error  post_id                                           prompt-1  \\\n",
       "0   NaN  10w0v9z  Extract two most important keywords from the i...   \n",
       "\n",
       "                                            prompt-2  \\\n",
       "0  Based on these keywords: ['Bill Gates', 'clima...   \n",
       "\n",
       "                                            prompt-3  \\\n",
       "0  Your goal is to extract a tone (single), senti...   \n",
       "\n",
       "                                            prompt-4  \\\n",
       "0  Your job is to write a reddit reply (in less t...   \n",
       "\n",
       "                                          input-post  \\\n",
       "0  Bill Gates on why he’ll carry on using private...   \n",
       "\n",
       "                                       input-replies  \\\n",
       "0  ['Defund the oligarchs.', \"Even if I was a com...   \n",
       "\n",
       "                        output-keywords  \\\n",
       "0  [\"['Bill Gates', 'climate change']\"]   \n",
       "\n",
       "                               output-article_search  \\\n",
       "0  [{'url': 'https://www.gatesnotes.com/What-you-...   \n",
       "\n",
       "                                      output-replies  \\\n",
       "0  {'tone': 'critical', 'sentiment': 'negative', ...   \n",
       "\n",
       "                                        output-reply  keywords-node  \\\n",
       "0  ['While I understand the desire for public fig...            1.0   \n",
       "\n",
       "   tool-node  tone-summary-node  reply-node notes  \n",
       "0        1.0                1.0         1.0   NaN  "
      ]
     },
     "execution_count": 4,
     "metadata": {},
     "output_type": "execute_result"
    }
   ],
   "source": [
    "llm_responses = pd.read_excel(\"/Users/ankushgarg/Desktop/MIDS/epic-data-lab/validate-LLM-graphs/reddit-comments/reddit-comments-eval.xlsx\")\n",
    "llm_responses = llm_responses.head(1)\n",
    "llm_responses"
   ]
  },
  {
   "cell_type": "markdown",
   "metadata": {},
   "source": [
    "#### Use LLM-as-a-Judge to run the responses for validation"
   ]
  },
  {
   "cell_type": "markdown",
   "metadata": {},
   "source": []
  },
  {
   "cell_type": "code",
   "execution_count": 5,
   "metadata": {},
   "outputs": [
    {
     "name": "stderr",
     "output_type": "stream",
     "text": [
      "/Users/ankushgarg/Desktop/MIDS/epic-data-lab/validate-LLM-graphs/.llm_env/lib/python3.9/site-packages/urllib3/__init__.py:35: NotOpenSSLWarning: urllib3 v2 only supports OpenSSL 1.1.1+, currently the 'ssl' module is compiled with 'LibreSSL 2.8.3'. See: https://github.com/urllib3/urllib3/issues/3020\n",
      "  warnings.warn(\n"
     ]
    }
   ],
   "source": [
    "from llm_as_judge import run_validation_using_LLM\n",
    "\n",
    "node_input_output_mappings = {\n",
    "    \"extract_keywords_from_title\": (\"prompt-1\", \"output-keywords\"),\n",
    "    \"tool_search\": (\"prompt-2\", \"output-article_search\"),\n",
    "    \"summarize_tone_sentiment_of_replies\": (\"prompt-3\", \"output-replies\"),\n",
    "    \"generate_reply\": ( \"prompt-4\", \"output-reply\")\n",
    "}\n",
    "\n",
    "llm_response_df = run_validation_using_LLM(\n",
    "    dataframe=llm_responses,\n",
    "    node_input_output_mappings=node_input_output_mappings\n",
    "    )"
   ]
  },
  {
   "cell_type": "code",
   "execution_count": 9,
   "metadata": {},
   "outputs": [],
   "source": [
    "# from scipe import convert_to_dag, run_validation_using_llm, find_problematic_node\n",
    "# # \"Systematic Chain Improvement and Problem Evaluation\"\n",
    "\n",
    "# # We have the graph from langgraph\n",
    "# graph = Langgraph()\n",
    "# # Middleware to convert it to a format that we need\n",
    "# # People can write this however\n",
    "# dag = convert_to_dag(graph) # We'll need this later\n",
    "\n",
    "# data_of_inputs_outputs = pd.DataFrame()\n",
    "\n",
    "# llm_responses_df = run_validation_using_llm(data_of_inputs_outputs)\n",
    "\n",
    "# node = find_problematic_node(llm_responses_df)\n",
    "\n",
    "# print(node)\n",
    "\n",
    "# \"Node: 1 is problematic\"\n",
    "# \"It has 33% chance of failing on it's own, compared to 9% chance of failing\"\n",
    "# \"because of node(n-1). Please focus on fixing Node 1.\"\n",
    "\n",
    "# ## What are some ways node 1 can be fixed. \n",
    "# ## Could we analyze it?\n"
   ]
  },
  {
   "cell_type": "code",
   "execution_count": 21,
   "metadata": {},
   "outputs": [
    {
     "name": "stdout",
     "output_type": "stream",
     "text": [
      "Analyzing node: generate_reply\n",
      "Overall failure probability for this node: 0.0000\n",
      "Independent failure probability: 0.0000\n",
      "Node failure because dep fails: 0\n",
      "Conditional failure probabilities given upstream dependency failures:\n",
      "  P(generate_reply fails | summarize_tone_sentiment_of_replies fails): 0.0000\n",
      "\n",
      "Analyzing node: summarize_tone_sentiment_of_replies\n",
      "Overall failure probability for this node: 0.0000\n",
      "Independent failure probability: 0.0000\n",
      "Node failure because dep fails: 0\n",
      "Conditional failure probabilities given upstream dependency failures:\n",
      "  P(summarize_tone_sentiment_of_replies fails | tool_search fails): 0.0000\n",
      "\n",
      "Analyzing node: tool_search\n",
      "Overall failure probability for this node: 0.0000\n",
      "Independent failure probability: 0.0000\n",
      "Node failure because dep fails: 0\n",
      "Conditional failure probabilities given upstream dependency failures:\n",
      "  P(tool_search fails | extract_keywords_from_title fails): 0.0000\n",
      "\n",
      "Analyzing node: extract_keywords_from_title\n",
      "Overall failure probability for this node: 0.0000\n",
      "Independent failure probability: 0.0000\n",
      "Node failure because dep fails: 0\n",
      "Conditional failure probabilities given upstream dependency failures:\n",
      "\n",
      "\n",
      "Root cause analysis complete.\n",
      "Debug path (from downstream to upstream): generate_reply -> summarize_tone_sentiment_of_replies -> tool_search -> extract_keywords_from_title\n",
      "Most likely root cause (most upstream issue): extract_keywords_from_title\n",
      "Independent failure probability of root cause: 0.0000\n",
      "Conditional failure probabilities given root cause's dependency failures:\n"
     ]
    },
    {
     "name": "stderr",
     "output_type": "stream",
     "text": [
      "/Users/ankushgarg/Desktop/MIDS/epic-data-lab/validate-LLM-graphs/src/algorithm.py:23: RuntimeWarning: invalid value encountered in scalar divide\n",
      "  result = (node_fails & dep_fails).sum() / dep_fails.sum()\n",
      "/Users/ankushgarg/Desktop/MIDS/epic-data-lab/validate-LLM-graphs/src/algorithm.py:23: RuntimeWarning: invalid value encountered in scalar divide\n",
      "  result = (node_fails & dep_fails).sum() / dep_fails.sum()\n",
      "/Users/ankushgarg/Desktop/MIDS/epic-data-lab/validate-LLM-graphs/src/algorithm.py:23: RuntimeWarning: invalid value encountered in scalar divide\n",
      "  result = (node_fails & dep_fails).sum() / dep_fails.sum()\n"
     ]
    },
    {
     "ename": "ValueError",
     "evalue": "max() arg is an empty sequence",
     "output_type": "error",
     "traceback": [
      "\u001b[0;31m---------------------------------------------------------------------------\u001b[0m",
      "\u001b[0;31mValueError\u001b[0m                                Traceback (most recent call last)",
      "Cell \u001b[0;32mIn[21], line 1\u001b[0m\n\u001b[0;32m----> 1\u001b[0m \u001b[43mimprove_system\u001b[49m\u001b[43m(\u001b[49m\n\u001b[1;32m      2\u001b[0m \u001b[43m    \u001b[49m\u001b[43mdownstream_node\u001b[49m\u001b[38;5;241;43m=\u001b[39;49m\u001b[38;5;124;43m'\u001b[39;49m\u001b[38;5;124;43mgenerate_reply\u001b[39;49m\u001b[38;5;124;43m'\u001b[39;49m\u001b[43m,\u001b[49m\n\u001b[1;32m      3\u001b[0m \u001b[43m    \u001b[49m\u001b[43mdata\u001b[49m\u001b[38;5;241;43m=\u001b[39;49m\u001b[43moutputs\u001b[49m\u001b[43m,\u001b[49m\n\u001b[1;32m      4\u001b[0m \u001b[43m    \u001b[49m\u001b[43mgraph\u001b[49m\u001b[38;5;241;43m=\u001b[39;49m\u001b[43mdag\u001b[49m\n\u001b[1;32m      5\u001b[0m \u001b[43m    \u001b[49m\u001b[43m)\u001b[49m\n",
      "File \u001b[0;32m~/Desktop/MIDS/epic-data-lab/validate-LLM-graphs/src/algorithm.py:71\u001b[0m, in \u001b[0;36mimprove_system\u001b[0;34m(downstream_node, data, graph)\u001b[0m\n\u001b[1;32m     69\u001b[0m     \u001b[38;5;28mprint\u001b[39m(\u001b[38;5;124mf\u001b[39m\u001b[38;5;124m\"\u001b[39m\u001b[38;5;124mThe most likely cause is an independent failure in node \u001b[39m\u001b[38;5;132;01m{\u001b[39;00mpath[\u001b[38;5;241m-\u001b[39m\u001b[38;5;241m1\u001b[39m]\u001b[38;5;132;01m}\u001b[39;00m\u001b[38;5;124m\"\u001b[39m)\n\u001b[1;32m     70\u001b[0m \u001b[38;5;28;01melse\u001b[39;00m:\n\u001b[0;32m---> 71\u001b[0m     most_likely_dep \u001b[38;5;241m=\u001b[39m \u001b[38;5;28;43mmax\u001b[39;49m\u001b[43m(\u001b[49m\u001b[43mfinal_probs\u001b[49m\u001b[43m,\u001b[49m\u001b[43m \u001b[49m\u001b[43mkey\u001b[49m\u001b[38;5;241;43m=\u001b[39;49m\u001b[43mfinal_probs\u001b[49m\u001b[38;5;241;43m.\u001b[39;49m\u001b[43mget\u001b[49m\u001b[43m)\u001b[49m\n\u001b[1;32m     72\u001b[0m     \u001b[38;5;28mprint\u001b[39m(\u001b[38;5;124mf\u001b[39m\u001b[38;5;124m\"\u001b[39m\u001b[38;5;124mThe most likely cause is a failure in dependency: \u001b[39m\u001b[38;5;132;01m{\u001b[39;00mmost_likely_dep\u001b[38;5;132;01m}\u001b[39;00m\u001b[38;5;124m\"\u001b[39m)\n\u001b[1;32m     74\u001b[0m \u001b[38;5;28;01mreturn\u001b[39;00m path, independent_prob, final_probs\n",
      "\u001b[0;31mValueError\u001b[0m: max() arg is an empty sequence"
     ]
    }
   ],
   "source": [
    "improve_system(\n",
    "    downstream_node='generate_reply',\n",
    "    data=outputs,\n",
    "    graph=dag\n",
    "    )"
   ]
  },
  {
   "cell_type": "code",
   "execution_count": null,
   "metadata": {},
   "outputs": [],
   "source": [
    "llm_response_df"
   ]
  },
  {
   "cell_type": "code",
   "execution_count": null,
   "metadata": {},
   "outputs": [],
   "source": []
  }
 ],
 "metadata": {
  "kernelspec": {
   "display_name": ".llm_env",
   "language": "python",
   "name": "python3"
  },
  "language_info": {
   "codemirror_mode": {
    "name": "ipython",
    "version": 3
   },
   "file_extension": ".py",
   "mimetype": "text/x-python",
   "name": "python",
   "nbconvert_exporter": "python",
   "pygments_lexer": "ipython3",
   "version": "3.9.6"
  }
 },
 "nbformat": 4,
 "nbformat_minor": 2
}
